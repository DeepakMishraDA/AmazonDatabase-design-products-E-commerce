{
 "metadata": {
  "language_info": {
   "codemirror_mode": {
    "name": "ipython",
    "version": 3
   },
   "file_extension": ".py",
   "mimetype": "text/x-python",
   "name": "python",
   "nbconvert_exporter": "python",
   "pygments_lexer": "ipython3",
   "version": "3.7.6-final"
  },
  "orig_nbformat": 2,
  "kernelspec": {
   "name": "python3",
   "display_name": "Python 3.7.6 64-bit (conda)",
   "metadata": {
    "interpreter": {
     "hash": "415788420510e1beefae126e6d1778b8102168be4ab6a41434e14576dcb97223"
    }
   }
  }
 },
 "nbformat": 4,
 "nbformat_minor": 2,
 "cells": [
  {
   "cell_type": "code",
   "execution_count": 2,
   "metadata": {},
   "outputs": [],
   "source": [
    "import pandas as pd \n",
    "ds = pd.read_json('smartphone_valid8.json')\n",
    "#ds = pd.read_csv('C:/Users/deepa/Desktop/bignn/headphones.csv')"
   ]
  },
  {
   "cell_type": "code",
   "execution_count": 4,
   "metadata": {},
   "outputs": [],
   "source": [
    "ds.drop(['Unnamed: 0'], axis=1, inplace = True)\n",
    "#ds.drop([3141,10235,14360,15021,17469,19203], axis = 0, inplace= True)\n",
    "ds.reset_index(drop=True, inplace=True)"
   ]
  },
  {
   "cell_type": "code",
   "execution_count": 6,
   "metadata": {},
   "outputs": [
    {
     "output_type": "execute_result",
     "data": {
      "text/plain": [
       "                                                name  \\\n",
       "0  Betron DC950HI Earbuds, Noise Isolating in Ear...   \n",
       "1  Bluetooth Headphones,Tuinyo Wireless Headphone...   \n",
       "\n",
       "                                         product_url              rating  \\\n",
       "0  https://www.amazon.com/gp/slredirect/picassoRe...  4.2 out of 5 stars   \n",
       "1  https://www.amazon.com/gp/slredirect/picassoRe...  4.3 out of 5 stars   \n",
       "\n",
       "  reviews   price product_type  \n",
       "0   4,093  $12.99   Headphones  \n",
       "1     646  $23.99   Headphones  "
      ],
      "text/html": "<div>\n<style scoped>\n    .dataframe tbody tr th:only-of-type {\n        vertical-align: middle;\n    }\n\n    .dataframe tbody tr th {\n        vertical-align: top;\n    }\n\n    .dataframe thead th {\n        text-align: right;\n    }\n</style>\n<table border=\"1\" class=\"dataframe\">\n  <thead>\n    <tr style=\"text-align: right;\">\n      <th></th>\n      <th>name</th>\n      <th>product_url</th>\n      <th>rating</th>\n      <th>reviews</th>\n      <th>price</th>\n      <th>product_type</th>\n    </tr>\n  </thead>\n  <tbody>\n    <tr>\n      <th>0</th>\n      <td>Betron DC950HI Earbuds, Noise Isolating in Ear...</td>\n      <td>https://www.amazon.com/gp/slredirect/picassoRe...</td>\n      <td>4.2 out of 5 stars</td>\n      <td>4,093</td>\n      <td>$12.99</td>\n      <td>Headphones</td>\n    </tr>\n    <tr>\n      <th>1</th>\n      <td>Bluetooth Headphones,Tuinyo Wireless Headphone...</td>\n      <td>https://www.amazon.com/gp/slredirect/picassoRe...</td>\n      <td>4.3 out of 5 stars</td>\n      <td>646</td>\n      <td>$23.99</td>\n      <td>Headphones</td>\n    </tr>\n  </tbody>\n</table>\n</div>"
     },
     "metadata": {},
     "execution_count": 6
    }
   ],
   "source": [
    "ds.head(2)"
   ]
  },
  {
   "cell_type": "code",
   "execution_count": 53,
   "metadata": {},
   "outputs": [],
   "source": [
    "ds.rename(columns={'url':'product_url', 'title': 'name'},inplace= True)\n",
    "#ds.drop(labels='review_count', axis = 1, inplace = True)"
   ]
  },
  {
   "cell_type": "code",
   "execution_count": 7,
   "metadata": {},
   "outputs": [
    {
     "output_type": "execute_result",
     "data": {
      "text/plain": [
       "7093"
      ]
     },
     "metadata": {},
     "execution_count": 7
    }
   ],
   "source": [
    "ds.shape[0]"
   ]
  },
  {
   "cell_type": "code",
   "execution_count": 8,
   "metadata": {},
   "outputs": [],
   "source": [
    "asn = []\n",
    "for i in range(ds.shape[0]):\n",
    "    if 'dp%' in ds['product_url']:\n",
    "        df = ds['product_url'][i]\n",
    "        ef = df.split('dp%', 1)[1]\n",
    "        of = ef.split('ref',1)[0]\n",
    "        asn.append(of)\n",
    "    else:\n",
    "        df = ds['product_url'][i]\n",
    "        ef = df.split('dp', 1)[1]\n",
    "        of = ef.split('ref',1)[0]\n",
    "        asn.append(of)\n"
   ]
  },
  {
   "cell_type": "code",
   "execution_count": 59,
   "metadata": {},
   "outputs": [],
   "source": [
    "# These codes for headphones only!!\n",
    "kl = []\n",
    "for i in  ds['product_url']:\n",
    "    if 'dp%' in i:\n",
    "        ef = i.split('dp%',1)[1]\n",
    "        of = ef.split('%',1)[0]\n",
    "        kl.append(of)\n",
    "    else:\n",
    "        ef = i.split('dp/',1)[1]\n",
    "        of = ef.split('/',1)[0]\n",
    "        kl.append(of)\n",
    "\n",
    "\n",
    "for i in kl:\n",
    "    if '2F' in i:\n",
    "         kl[kl.index(i)] = i.split('2F',1)[1]\n",
    "    else:\n",
    "        continue \n",
    "\n",
    "ds['asin'] = kl"
   ]
  },
  {
   "cell_type": "code",
   "execution_count": 10,
   "metadata": {},
   "outputs": [
    {
     "output_type": "execute_result",
     "data": {
      "text/plain": [
       "'B087LYQ22N'"
      ]
     },
     "metadata": {},
     "execution_count": 10
    }
   ],
   "source": [
    "df = '%2FB087LYQ22N%2F'\n",
    "df[df.find('B'):13]"
   ]
  },
  {
   "cell_type": "code",
   "execution_count": 11,
   "metadata": {},
   "outputs": [],
   "source": [
    "kgf = []\n",
    "for i in asn:\n",
    "    df = i\n",
    "    if 'B' in i:\n",
    "        if df.find('B')==3:\n",
    "            kgf.append((i[df.find('B'):13]))\n",
    "        else:\n",
    "            kgf.append((i[df.find('B'):11]))\n",
    "    else:\n",
    "        kgf.append('nf')"
   ]
  },
  {
   "cell_type": "code",
   "execution_count": 59,
   "metadata": {},
   "outputs": [],
   "source": [
    "asin = kgf\n",
    "ds['asin'] = asin"
   ]
  },
  {
   "cell_type": "code",
   "execution_count": 60,
   "metadata": {},
   "outputs": [
    {
     "output_type": "execute_result",
     "data": {
      "text/plain": [
       "                                                   name  \\\n",
       "0     TCL 10L, Unlocked Android Smartphone with 6.53...   \n",
       "1     Samsung Galaxy A01 (A015M) 16GB, Dual SIM, GSM...   \n",
       "2     Samsung Galaxy A20s A207M/DS, 32GB/3GB RAM Dua...   \n",
       "3     Moto E | Unlocked | Made for US by Motorola | ...   \n",
       "4     Xiaomi Redmi Note 8 Pro 64GB, 6GB RAM 6.53\" LT...   \n",
       "...                                                 ...   \n",
       "6958  Professional Lavalier Lapel Recording Micropho...   \n",
       "6959  45W USB-C Type C AC Charger for Asus Chromeboo...   \n",
       "6960  MOMOSTICK_MULTI BAND: Phone Grip/Stand/Holder ...   \n",
       "6961  Nokia 8.3 5G Android Unlocked Smartphone with ...   \n",
       "6962  Rugged Smartphone Unlocked, Ulefone Armor 8 4G...   \n",
       "\n",
       "                                            product_url              rating  \\\n",
       "0     https://www.amazon.com/gp/slredirect/picassoRe...  4.4 out of 5 stars   \n",
       "1     https://www.amazon.com/Samsung-SM-A015M-Displa...  4.3 out of 5 stars   \n",
       "2     https://www.amazon.com/Samsung-A207M-Snapdrago...  4.3 out of 5 stars   \n",
       "3     https://www.amazon.com/Moto-Unlocked-Motorola-...  4.4 out of 5 stars   \n",
       "4     https://www.amazon.com/Xiaomi-Redmi-Factory-Un...  4.6 out of 5 stars   \n",
       "...                                                 ...                 ...   \n",
       "6958  https://www.amazon.com/Professional-Microphone...  4.0 out of 5 stars   \n",
       "6959  https://www.amazon.com/Charger-Chromebook-C302...  4.6 out of 5 stars   \n",
       "6960  https://www.amazon.com/MOMOSTICK_MULTI-BAND-Ac...  5.0 out of 5 stars   \n",
       "6961  https://www.amazon.com/gp/slredirect/picassoRe...  4.1 out of 5 stars   \n",
       "6962  https://www.amazon.com/gp/slredirect/picassoRe...                None   \n",
       "\n",
       "     review_count    price        asin  \n",
       "0             688  $249.99  B087LYQ22N  \n",
       "1             799  $113.99  B084V9FKK6  \n",
       "2           7,704  $189.99  B07ZDH95L4  \n",
       "3             433  $119.99  B086H3HH5V  \n",
       "4          17,624  $204.49  B07Y8Y6HVW  \n",
       "...           ...      ...         ...  \n",
       "6958          207    $7.99  B01H3JKG7M  \n",
       "6959            3   $19.99  B089M9LP5D  \n",
       "6960            1   $12.99  B083P21NYX  \n",
       "6961           12  $699.99  B08JQRBWXH  \n",
       "6962         None  $229.99  B08JL7T31Z  \n",
       "\n",
       "[6963 rows x 6 columns]"
      ],
      "text/html": "<div>\n<style scoped>\n    .dataframe tbody tr th:only-of-type {\n        vertical-align: middle;\n    }\n\n    .dataframe tbody tr th {\n        vertical-align: top;\n    }\n\n    .dataframe thead th {\n        text-align: right;\n    }\n</style>\n<table border=\"1\" class=\"dataframe\">\n  <thead>\n    <tr style=\"text-align: right;\">\n      <th></th>\n      <th>name</th>\n      <th>product_url</th>\n      <th>rating</th>\n      <th>review_count</th>\n      <th>price</th>\n      <th>asin</th>\n    </tr>\n  </thead>\n  <tbody>\n    <tr>\n      <th>0</th>\n      <td>TCL 10L, Unlocked Android Smartphone with 6.53...</td>\n      <td>https://www.amazon.com/gp/slredirect/picassoRe...</td>\n      <td>4.4 out of 5 stars</td>\n      <td>688</td>\n      <td>$249.99</td>\n      <td>B087LYQ22N</td>\n    </tr>\n    <tr>\n      <th>1</th>\n      <td>Samsung Galaxy A01 (A015M) 16GB, Dual SIM, GSM...</td>\n      <td>https://www.amazon.com/Samsung-SM-A015M-Displa...</td>\n      <td>4.3 out of 5 stars</td>\n      <td>799</td>\n      <td>$113.99</td>\n      <td>B084V9FKK6</td>\n    </tr>\n    <tr>\n      <th>2</th>\n      <td>Samsung Galaxy A20s A207M/DS, 32GB/3GB RAM Dua...</td>\n      <td>https://www.amazon.com/Samsung-A207M-Snapdrago...</td>\n      <td>4.3 out of 5 stars</td>\n      <td>7,704</td>\n      <td>$189.99</td>\n      <td>B07ZDH95L4</td>\n    </tr>\n    <tr>\n      <th>3</th>\n      <td>Moto E | Unlocked | Made for US by Motorola | ...</td>\n      <td>https://www.amazon.com/Moto-Unlocked-Motorola-...</td>\n      <td>4.4 out of 5 stars</td>\n      <td>433</td>\n      <td>$119.99</td>\n      <td>B086H3HH5V</td>\n    </tr>\n    <tr>\n      <th>4</th>\n      <td>Xiaomi Redmi Note 8 Pro 64GB, 6GB RAM 6.53\" LT...</td>\n      <td>https://www.amazon.com/Xiaomi-Redmi-Factory-Un...</td>\n      <td>4.6 out of 5 stars</td>\n      <td>17,624</td>\n      <td>$204.49</td>\n      <td>B07Y8Y6HVW</td>\n    </tr>\n    <tr>\n      <th>...</th>\n      <td>...</td>\n      <td>...</td>\n      <td>...</td>\n      <td>...</td>\n      <td>...</td>\n      <td>...</td>\n    </tr>\n    <tr>\n      <th>6958</th>\n      <td>Professional Lavalier Lapel Recording Micropho...</td>\n      <td>https://www.amazon.com/Professional-Microphone...</td>\n      <td>4.0 out of 5 stars</td>\n      <td>207</td>\n      <td>$7.99</td>\n      <td>B01H3JKG7M</td>\n    </tr>\n    <tr>\n      <th>6959</th>\n      <td>45W USB-C Type C AC Charger for Asus Chromeboo...</td>\n      <td>https://www.amazon.com/Charger-Chromebook-C302...</td>\n      <td>4.6 out of 5 stars</td>\n      <td>3</td>\n      <td>$19.99</td>\n      <td>B089M9LP5D</td>\n    </tr>\n    <tr>\n      <th>6960</th>\n      <td>MOMOSTICK_MULTI BAND: Phone Grip/Stand/Holder ...</td>\n      <td>https://www.amazon.com/MOMOSTICK_MULTI-BAND-Ac...</td>\n      <td>5.0 out of 5 stars</td>\n      <td>1</td>\n      <td>$12.99</td>\n      <td>B083P21NYX</td>\n    </tr>\n    <tr>\n      <th>6961</th>\n      <td>Nokia 8.3 5G Android Unlocked Smartphone with ...</td>\n      <td>https://www.amazon.com/gp/slredirect/picassoRe...</td>\n      <td>4.1 out of 5 stars</td>\n      <td>12</td>\n      <td>$699.99</td>\n      <td>B08JQRBWXH</td>\n    </tr>\n    <tr>\n      <th>6962</th>\n      <td>Rugged Smartphone Unlocked, Ulefone Armor 8 4G...</td>\n      <td>https://www.amazon.com/gp/slredirect/picassoRe...</td>\n      <td>None</td>\n      <td>None</td>\n      <td>$229.99</td>\n      <td>B08JL7T31Z</td>\n    </tr>\n  </tbody>\n</table>\n<p>6963 rows × 6 columns</p>\n</div>"
     },
     "metadata": {},
     "execution_count": 60
    }
   ],
   "source": [
    "ds"
   ]
  },
  {
   "cell_type": "code",
   "execution_count": 74,
   "metadata": {},
   "outputs": [],
   "source": [
    "ds.to_csv('headphones_new.csv')"
   ]
  }
 ]
}